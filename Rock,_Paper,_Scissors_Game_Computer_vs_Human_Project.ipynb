{
  "nbformat": 4,
  "nbformat_minor": 0,
  "metadata": {
    "colab": {
      "provenance": [],
      "authorship_tag": "ABX9TyNUee+rTWLomABgRfDiv7K9",
      "include_colab_link": true
    },
    "kernelspec": {
      "name": "python3",
      "display_name": "Python 3"
    },
    "language_info": {
      "name": "python"
    }
  },
  "cells": [
    {
      "cell_type": "markdown",
      "metadata": {
        "id": "view-in-github",
        "colab_type": "text"
      },
      "source": [
        "<a href=\"https://colab.research.google.com/github/JoshitVadela/Python-Projects/blob/main/Rock%2C_Paper%2C_Scissors_Game_Computer_vs_Human_Project.ipynb\" target=\"_parent\"><img src=\"https://colab.research.google.com/assets/colab-badge.svg\" alt=\"Open In Colab\"/></a>"
      ]
    },
    {
      "cell_type": "code",
      "execution_count": 14,
      "metadata": {
        "colab": {
          "base_uri": "https://localhost:8080/"
        },
        "id": "qNtpmbFdp9YE",
        "outputId": "5dda43ba-f757-4b82-a3d9-60d89512265a"
      },
      "outputs": [
        {
          "output_type": "stream",
          "name": "stdout",
          "text": [
            "choose one from rock, paper, scissors: Rock\n",
            "Game Draw!!\n",
            "Move choosen by computer ['Rock']\n",
            "Move choosen by user Rock\n"
          ]
        }
      ],
      "source": [
        "import random\n",
        "\n",
        "computer_choice = random.choices(['Rock', 'Paper', 'Scissors'])\n",
        "user_choice = input('choose one from rock, paper, scissors: ')\n",
        "\n",
        "if computer_choice == ['Rock'] and user_choice == \"Paper\":\n",
        "  print(\"User Wins!!\")\n",
        "elif computer_choice == ['Rock'] and user_choice == \"Scissors\":\n",
        "  print(\"Computer Wins!!\")\n",
        "elif computer_choice == ['Rock'] and user_choice == \"Rock\":\n",
        "  print(\"Game Draw!!\")\n",
        "elif computer_choice == ['Paper'] and user_choice == \"Rock\":\n",
        "  print(\"computer Wins!!\")\n",
        "elif computer_choice == ['Paper'] and user_choice == \"Scissors\":\n",
        "  print(\"User Wins!!\")\n",
        "elif computer_choice == ['Paper'] and user_choice == \"Paper\":\n",
        "  print(\"Game Draw!!\")\n",
        "elif computer_choice == ['Scissors'] and user_choice == \"Rock\":\n",
        "  print(\"User Wins!!\")\n",
        "elif computer_choice == ['Scissors'] and user_choice == \"Paper\":\n",
        "  print(\"Computer Wins!!\")\n",
        "elif computer_choice == ['Scissors'] and user_choice == \"Scissors\":\n",
        "  print(\"Game Draw!!\")\n",
        "\n",
        "print(f\"Move choosen by computer: {computer_choice}\")\n",
        "print(f\"Move choosen by user: {user_choice}\")"
      ]
    }
  ]
}