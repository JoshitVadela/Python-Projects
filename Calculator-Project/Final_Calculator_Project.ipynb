{
  "nbformat": 4,
  "nbformat_minor": 0,
  "metadata": {
    "colab": {
      "provenance": [],
      "authorship_tag": "ABX9TyMDuG9w3MWeVewa6xi1G0w5",
      "include_colab_link": true
    },
    "kernelspec": {
      "name": "python3",
      "display_name": "Python 3"
    },
    "language_info": {
      "name": "python"
    }
  },
  "cells": [
    {
      "cell_type": "markdown",
      "metadata": {
        "id": "view-in-github",
        "colab_type": "text"
      },
      "source": [
        "<a href=\"https://colab.research.google.com/github/JoshitVadela/Python-Projects/blob/main/Final_Calculator_Project.ipynb\" target=\"_parent\"><img src=\"https://colab.research.google.com/assets/colab-badge.svg\" alt=\"Open In Colab\"/></a>"
      ]
    },
    {
      "cell_type": "code",
      "execution_count": null,
      "metadata": {
        "id": "BmOvJEinRDgj"
      },
      "outputs": [],
      "source": [
        "def add(inp1, inp2):\n",
        "  result = int(inp1) + int(inp2)\n",
        "  return result\n",
        "\n",
        "def sub(inp1,inp2):\n",
        "  result = inp1 - inp2\n",
        "  return result\n",
        "\n",
        "def mul(inp1,inp2):\n",
        "  result = inp1 * inp2\n",
        "  return result\n",
        "\n",
        "def div(inp1,inp2):\n",
        "  result = inp1/inp2\n",
        "  return result\n",
        "\n",
        "def calc():\n",
        "  inp1 = int(input('Enter your first number: '))\n",
        "  inp2 = int(input('Enter your second number: '))\n",
        "\n",
        "  inp3 = input('Choose your operation: (+, -, *, /): ')\n",
        "\n",
        "  while inp3 not in ['+','-','*','/']:\n",
        "    inp3 = input('Please select the valid operation: (+, -, *, /): ')\n",
        "\n",
        "  if inp3 == '+':\n",
        "    result = add(inp1,inp2)\n",
        "  elif inp3 == '-':\n",
        "    result = sub(inp1,inp2)\n",
        "  elif inp3 == '*':\n",
        "    result = mul(inp1,inp2)\n",
        "  else:\n",
        "    result = div(inp1,inp2)\n",
        "\n",
        "  return result\n"
      ]
    },
    {
      "cell_type": "code",
      "source": [
        "calc()"
      ],
      "metadata": {
        "colab": {
          "base_uri": "https://localhost:8080/"
        },
        "id": "aulI16-mhUjB",
        "outputId": "1e3f9f3d-1c1e-4ecb-ac72-6e7ccecd0b58"
      },
      "execution_count": null,
      "outputs": [
        {
          "name": "stdout",
          "output_type": "stream",
          "text": [
            "Enter your first number: 123\n",
            "Enter your second number: 69\n",
            "Choose your operation: (+, -, *, /): +\n"
          ]
        },
        {
          "output_type": "execute_result",
          "data": {
            "text/plain": [
              "192"
            ]
          },
          "metadata": {},
          "execution_count": 5
        }
      ]
    }
  ]
}
