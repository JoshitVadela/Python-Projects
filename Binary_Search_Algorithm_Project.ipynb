{
  "nbformat": 4,
  "nbformat_minor": 0,
  "metadata": {
    "colab": {
      "provenance": [],
      "authorship_tag": "ABX9TyNmxZEjfKrvFth5B31QCbIv",
      "include_colab_link": true
    },
    "kernelspec": {
      "name": "python3",
      "display_name": "Python 3"
    },
    "language_info": {
      "name": "python"
    }
  },
  "cells": [
    {
      "cell_type": "markdown",
      "metadata": {
        "id": "view-in-github",
        "colab_type": "text"
      },
      "source": [
        "<a href=\"https://colab.research.google.com/github/JoshitVadela/Python-Projects/blob/main/Binary_Search_Algorithm_Project.ipynb\" target=\"_parent\"><img src=\"https://colab.research.google.com/assets/colab-badge.svg\" alt=\"Open In Colab\"/></a>"
      ]
    },
    {
      "cell_type": "code",
      "execution_count": 12,
      "metadata": {
        "colab": {
          "base_uri": "https://localhost:8080/"
        },
        "id": "-_JNJG5WKXhk",
        "outputId": "da596a22-5e1b-499a-92be-6eb217778220"
      },
      "outputs": [
        {
          "output_type": "stream",
          "name": "stdout",
          "text": [
            "Step 0 :  [1, 2, 3, 4, 5, 6, 7, 8, 9, 10] \n",
            "\n",
            "Step 1 :  [7, 8, 9, 10] \n",
            "\n",
            "Step 2 :  [7, 8] \n",
            "\n",
            "Element found at index: 6\n"
          ]
        }
      ],
      "source": [
        "def binary_search(list, element):\n",
        "  mid = 0\n",
        "  start = 0\n",
        "  end = len(list)\n",
        "  steps = 0\n",
        "\n",
        "  while(start <= end):\n",
        "    print(\"Step\", steps, \": \", str(list[start:end+1]), \"\\n\")\n",
        "\n",
        "    steps += 1\n",
        "    mid = (start + end) // 2\n",
        "\n",
        "    if element == list[mid]:\n",
        "      print(\"Element found at index:\", mid)\n",
        "      return\n",
        "    elif element < list[mid]:\n",
        "      end = mid - 1\n",
        "    else:\n",
        "      start = mid + 1\n",
        "  return -1\n",
        "\n",
        "\n",
        "\n",
        "number_list = [1, 2, 3, 4, 5, 6, 7, 8, 9, 10]\n",
        "target = 7\n",
        "\n",
        "binary_search(number_list, target)"
      ]
    }
  ]
}