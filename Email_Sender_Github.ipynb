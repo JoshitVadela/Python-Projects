{
  "nbformat": 4,
  "nbformat_minor": 0,
  "metadata": {
    "colab": {
      "provenance": [],
      "authorship_tag": "ABX9TyMTgezywTSEpTe1mXKPVojI",
      "include_colab_link": true
    },
    "kernelspec": {
      "name": "python3",
      "display_name": "Python 3"
    },
    "language_info": {
      "name": "python"
    }
  },
  "cells": [
    {
      "cell_type": "markdown",
      "metadata": {
        "id": "view-in-github",
        "colab_type": "text"
      },
      "source": [
        "<a href=\"https://colab.research.google.com/github/JoshitVadela/Python-Projects/blob/main/Email_Sender_Github.ipynb\" target=\"_parent\"><img src=\"https://colab.research.google.com/assets/colab-badge.svg\" alt=\"Open In Colab\"/></a>"
      ]
    },
    {
      "cell_type": "code",
      "execution_count": null,
      "metadata": {
        "id": "I5jERSD33g9y"
      },
      "outputs": [],
      "source": [
        "from email.message import EmailMessage\n",
        "import ssl\n",
        "import smtplib\n",
        "\n",
        "email_sender = 'example@gmail.com'\n",
        "email_password = 'xxxx xxxx xxxx xxxx'\n",
        "\n",
        "email_receiver = 'example@gmail.com'\n",
        "\n",
        "subject = \"What is Lorem Ipsum?\"\n",
        "body = \"\"\"\n",
        "Lorem Ipsum is simply dummy text of the printing and typesetting industry.\n",
        "Lorem Ipsum has been the industry's standard dummy text ever since the 1500s,\n",
        "when an unknown printer took a galley of type and scrambled it to make a type\n",
        "specimen book. It has survived not only five centuries, but also the leap into\n",
        "electronic typesetting, remaining essentially unchanged. It was popularised in\n",
        "the 1960s with the release of Letraset sheets containing Lorem Ipsum passages,\n",
        "and more recently with desktop publishing software like Aldus PageMaker including\n",
        "versions of Lorem Ipsum.\n",
        "\"\"\"\n",
        "\n",
        "em = EmailMessage()\n",
        "em['From'] = email_sender\n",
        "em['To'] = email_receiver\n",
        "em[\"Subject\"] = subject\n",
        "em.set_content(body)\n",
        "\n",
        "\n",
        "context = ssl.create_default_context()\n",
        "\n",
        "with smtplib.SMTP_SSL('smtp.gmail.com', 465, context = context) as smtp:\n",
        "  smtp.login(email_sender, email_password)\n",
        "  smtp.sendmail(email_sender, email_receiver, em.as_string())"
      ]
    }
  ]
}