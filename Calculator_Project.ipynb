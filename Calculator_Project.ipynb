{
  "nbformat": 4,
  "nbformat_minor": 0,
  "metadata": {
    "colab": {
      "provenance": [],
      "authorship_tag": "ABX9TyNvYFnnwPJgAStBhLalK/Yr",
      "include_colab_link": true
    },
    "kernelspec": {
      "name": "python3",
      "display_name": "Python 3"
    },
    "language_info": {
      "name": "python"
    }
  },
  "cells": [
    {
      "cell_type": "markdown",
      "metadata": {
        "id": "view-in-github",
        "colab_type": "text"
      },
      "source": [
        "<a href=\"https://colab.research.google.com/github/JoshitVadela/Python-Projects/blob/main/Calculator_Project.ipynb\" target=\"_parent\"><img src=\"https://colab.research.google.com/assets/colab-badge.svg\" alt=\"Open In Colab\"/></a>"
      ]
    },
    {
      "cell_type": "code",
      "execution_count": null,
      "metadata": {
        "colab": {
          "base_uri": "https://localhost:8080/"
        },
        "id": "PJrbizyfiIY1",
        "outputId": "36d34658-f0d1-44b9-cb57-9ddf101b9489"
      },
      "outputs": [
        {
          "output_type": "stream",
          "name": "stdout",
          "text": [
            "What is your First Number: 345\n",
            "What is your Second Number: 678\n",
            "Choose an operation:- +, -, /, *: #\n",
            "\n",
            "Not a valid operation \n",
            "\n",
            "Choose an operation:- +, -, /, *: 78\n",
            "\n",
            "Not a valid operation \n",
            "\n",
            "Choose an operation:- +, -, /, *: +\n",
            "1023.0\n"
          ]
        }
      ],
      "source": [
        "number1 = float(input(\"What is your First Number: \"))\n",
        "number2 = float(input(\"What is your Second Number: \"))\n",
        "\n",
        "operation = input(\"Choose an operation:- +, -, /, *: \")\n",
        "while operation not in [\"+\", \"-\", \"/\", \"*\"]:\n",
        "  print(\"\")\n",
        "  print(\"Not a valid operation \\n\")\n",
        "  operation = input(\"Choose an operation:- +, -, /, *: \")\n",
        "\n",
        "if operation == \"+\":\n",
        "  addition = (number1 + number2)\n",
        "  print(addition)\n",
        "elif operation == \"-\":\n",
        "  subtraction = (number1 - number2)\n",
        "  print(subtraction)\n",
        "elif operation == \"/\":\n",
        "  division = (number1 / number2)\n",
        "  print(division)\n",
        "elif operation == \"*\":\n",
        "  multiplication = (number1 * number2)\n",
        "  print(multiplication)\n"
      ]
    }
  ]
}