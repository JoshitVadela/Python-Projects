{
  "nbformat": 4,
  "nbformat_minor": 0,
  "metadata": {
    "colab": {
      "provenance": [],
      "authorship_tag": "ABX9TyNLugVdDOal+TUeJW3Am6/o",
      "include_colab_link": true
    },
    "kernelspec": {
      "name": "python3",
      "display_name": "Python 3"
    },
    "language_info": {
      "name": "python"
    }
  },
  "cells": [
    {
      "cell_type": "markdown",
      "metadata": {
        "id": "view-in-github",
        "colab_type": "text"
      },
      "source": [
        "<a href=\"https://colab.research.google.com/github/JoshitVadela/Python-Projects/blob/main/Rock%2C_Paper%2C_Scissors_Game_Project.ipynb\" target=\"_parent\"><img src=\"https://colab.research.google.com/assets/colab-badge.svg\" alt=\"Open In Colab\"/></a>"
      ]
    },
    {
      "cell_type": "code",
      "execution_count": null,
      "metadata": {
        "colab": {
          "base_uri": "https://localhost:8080/"
        },
        "id": "I2SyOhWV_NSK",
        "outputId": "5db0441a-c41b-4d73-e966-34416f4111b4"
      },
      "outputs": [
        {
          "output_type": "stream",
          "name": "stdout",
          "text": [
            "Player 1, choose your move (Rock, Paper or Scissors): Paper\n",
            "Player 2, choose your move (Rock, Paper or Scissors): Scissors\n",
            "Player 2 Wins!!\n"
          ]
        }
      ],
      "source": [
        "player1 = input(\"Player 1, choose your move (Rock, Paper or Scissors): \")\n",
        "\n",
        "player2 = input(\"Player 2, choose your move (Rock, Paper or Scissors): \")\n",
        "\n",
        "if player1 == \"Rock\" and player2 == \"Paper\":\n",
        "  print(\"Player 2 Wins!!\")\n",
        "elif player1 == \"Rock\" and player2 == \"Scissors\":\n",
        "  print(\"Player 1 Wins!!\")\n",
        "elif player1 == \"Rock\" and player2 == \"Rock\":\n",
        "  print(\"Game Draw!!\")\n",
        "elif player1 == \"Paper\" and player2 == \"Rock\":\n",
        "  print(\"Player 1 Wins!!\")\n",
        "elif player1 == \"Paper\" and player2 == \"Scissors\":\n",
        "  print(\"Player 2 Wins!!\")\n",
        "elif player1 == \"Paper\" and player2 == \"Paper\":\n",
        "  print(\"Game Draw!!\")\n",
        "elif player1 == \"Scissors\" and player2 == \"Rock\":\n",
        "  print(\"Player 2 Wins!!\")\n",
        "elif player1 == \"Scissors\" and player2 == \"Paper\":\n",
        "  print(\"Player 1 Wins!!\")\n",
        "else:\n",
        "  print(\"Game Draw!!\")\n"
      ]
    }
  ]
}